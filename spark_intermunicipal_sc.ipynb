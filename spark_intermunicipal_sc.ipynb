{
 "cells": [
  {
   "cell_type": "code",
   "execution_count": 1,
   "id": "a8452bc2",
   "metadata": {},
   "outputs": [
    {
     "data": {
      "text/html": [
       "<style>.container { width:90% !important; }</style>"
      ],
      "text/plain": [
       "<IPython.core.display.HTML object>"
      ]
     },
     "metadata": {},
     "output_type": "display_data"
    }
   ],
   "source": [
    "from IPython.core.display import display, HTML\n",
    "display(HTML(\"<style>.container { width:90% !important; }</style>\"))"
   ]
  },
  {
   "cell_type": "code",
   "execution_count": 2,
   "id": "26b982ea",
   "metadata": {},
   "outputs": [
    {
     "name": "stderr",
     "output_type": "stream",
     "text": [
      "WARNING: An illegal reflective access operation has occurred\n",
      "WARNING: Illegal reflective access by org.apache.spark.unsafe.Platform (file:/usr/local/spark-3.2.0-bin-hadoop3.2/jars/spark-unsafe_2.12-3.2.0.jar) to constructor java.nio.DirectByteBuffer(long,int)\n",
      "WARNING: Please consider reporting this to the maintainers of org.apache.spark.unsafe.Platform\n",
      "WARNING: Use --illegal-access=warn to enable warnings of further illegal reflective access operations\n",
      "WARNING: All illegal access operations will be denied in a future release\n",
      "Using Spark's default log4j profile: org/apache/spark/log4j-defaults.properties\n",
      "Setting default log level to \"WARN\".\n",
      "To adjust logging level use sc.setLogLevel(newLevel). For SparkR, use setLogLevel(newLevel).\n",
      "22/04/05 13:33:47 WARN NativeCodeLoader: Unable to load native-hadoop library for your platform... using builtin-java classes where applicable\n"
     ]
    }
   ],
   "source": [
    "import pyspark\n",
    "from pyspark.sql import SparkSession\n",
    "from pyspark.sql.types import *\n",
    "from pyspark.sql.functions import *\n",
    "from pyspark.sql import SQLContext\n",
    "spark = SparkSession.builder.master(\"local[*]\").appName('spark_intermunicipal_sc').getOrCreate()"
   ]
  },
  {
   "cell_type": "code",
   "execution_count": 3,
   "id": "8be719d9",
   "metadata": {},
   "outputs": [
    {
     "name": "stderr",
     "output_type": "stream",
     "text": [
      "22/04/05 13:33:52 WARN package: Truncated the string representation of a plan since it was too large. This behavior can be adjusted by setting 'spark.sql.debug.maxToStringFields'.\n"
     ]
    }
   ],
   "source": [
    "tb = spark.read.parquet(\"ref/parquet\")\n",
    "tb.createOrReplaceTempView(\"tb\")\n",
    "\n",
    "dicionario_secoes = spark.read.option(\"delimiter\", \";\").option(\"header\", \"true\").option(\"inferSchema\", \"true\").option(\"encoding\", \"utf-8\").csv(\"dicionario/dicionario_secoes_stripped.csv\")\n",
    "dicionario_secoes.createOrReplaceTempView(\"dicionario_secoes\")\n",
    "\n",
    "dicionario_linhas = spark.read.option(\"delimiter\", \";\").option(\"header\", \"true\").option(\"inferSchema\", \"true\").option(\"encoding\", \"utf-8\").csv(\"dicionario/dicionario_linhas_stripped.csv\")\n",
    "dicionario_linhas.createOrReplaceTempView(\"dicionario_linhas\")"
   ]
  },
  {
   "cell_type": "code",
   "execution_count": 4,
   "id": "1bfac226",
   "metadata": {},
   "outputs": [
    {
     "name": "stdout",
     "output_type": "stream",
     "text": [
      "      tb = 615285 linhas | 53 colunas\n",
      "      dicionario_secoes = 1710 linhas | 2 colunas\n",
      "      dicionario_linhas = 242 linhas | 2 colunas      \n"
     ]
    }
   ],
   "source": [
    "# verificação dos arquivos lidos\n",
    "\n",
    "print(f\"\\\n",
    "      tb = {tb.count()} linhas | {len(tb.columns)} colunas\\n\\\n",
    "      dicionario_secoes = {dicionario_secoes.count()} linhas | {len(dicionario_secoes.columns)} colunas\\n\\\n",
    "      dicionario_linhas = {dicionario_linhas.count()} linhas | {len(dicionario_linhas.columns)} colunas\\\n",
    "      \")"
   ]
  },
  {
   "cell_type": "code",
   "execution_count": 5,
   "id": "f54232c6",
   "metadata": {},
   "outputs": [
    {
     "name": "stdout",
     "output_type": "stream",
     "text": [
      "root\n",
      " |-- ano: long (nullable = true)\n",
      " |-- codigo: double (nullable = true)\n",
      " |-- des_localidade_id: double (nullable = true)\n",
      " |-- des_localidade_nome: string (nullable = true)\n",
      " |-- des_localidade_uf: double (nullable = true)\n",
      " |-- des_municipio_id: double (nullable = true)\n",
      " |-- des_municipio_nome: string (nullable = true)\n",
      " |-- empresa: string (nullable = true)\n",
      " |-- empresa_cnpj: double (nullable = true)\n",
      " |-- empresa_situacao: double (nullable = true)\n",
      " |-- empresa_tipo: double (nullable = true)\n",
      " |-- ida_idoso_desconto: double (nullable = true)\n",
      " |-- ida_idoso_gratis: double (nullable = true)\n",
      " |-- ida_jovem_desconto: double (nullable = true)\n",
      " |-- ida_jovem_gratis: double (nullable = true)\n",
      " |-- ida_pagantes: double (nullable = true)\n",
      " |-- ida_passelivre: double (nullable = true)\n",
      " |-- km: string (nullable = true)\n",
      " |-- km_total: double (nullable = true)\n",
      " |-- linha: double (nullable = true)\n",
      " |-- linha_id: double (nullable = true)\n",
      " |-- lugares_idas: double (nullable = true)\n",
      " |-- lugares_voltas: double (nullable = true)\n",
      " |-- mes: double (nullable = true)\n",
      " |-- ori_des_localidade_nome: string (nullable = true)\n",
      " |-- ori_localidade_id: double (nullable = true)\n",
      " |-- ori_localidade_nome: string (nullable = true)\n",
      " |-- ori_localidade_uf: double (nullable = true)\n",
      " |-- ori_municipio_id: double (nullable = true)\n",
      " |-- ori_municipio_nome: string (nullable = true)\n",
      " |-- pax_gratis_descontos: double (nullable = true)\n",
      " |-- pax_idoso_desconto: double (nullable = true)\n",
      " |-- pax_idoso_gratis: double (nullable = true)\n",
      " |-- pax_jovem_desconto: double (nullable = true)\n",
      " |-- pax_jovem_gratis: string (nullable = true)\n",
      " |-- pax_pagantes: string (nullable = true)\n",
      " |-- pax_passelivre: double (nullable = true)\n",
      " |-- pax_total: string (nullable = true)\n",
      " |-- prefixo: string (nullable = true)\n",
      " |-- secao_id: double (nullable = true)\n",
      " |-- sequencial: long (nullable = true)\n",
      " |-- servico_ambito: string (nullable = true)\n",
      " |-- servico_tipo: double (nullable = true)\n",
      " |-- sisdap_fim: double (nullable = true)\n",
      " |-- sisdap_inicio: double (nullable = true)\n",
      " |-- viagem_idas: double (nullable = true)\n",
      " |-- viagem_voltas: double (nullable = true)\n",
      " |-- volta_idoso_desconto: double (nullable = true)\n",
      " |-- volta_idoso_gratis: double (nullable = true)\n",
      " |-- volta_jovem_desconto: double (nullable = true)\n",
      " |-- volta_jovem_gratis: double (nullable = true)\n",
      " |-- volta_pagantes: double (nullable = true)\n",
      " |-- volta_passelivre: double (nullable = true)\n",
      "\n"
     ]
    }
   ],
   "source": [
    "tb.printSchema()"
   ]
  },
  {
   "cell_type": "code",
   "execution_count": 6,
   "id": "978309e8",
   "metadata": {},
   "outputs": [],
   "source": [
    "df_join = spark.sql(\"\"\"\n",
    "\n",
    "SELECT\n",
    "tb.ano AS `ano`,\n",
    "tb.empresa AS `empresa`,\n",
    "servico_ambito AS `modalidade`,\n",
    "CONCAT(prefixo, ' - ', CONCAT(linha_ori.sig, '-', linha_des.sig)) AS linha,\n",
    "prefixo,\n",
    "CONCAT(linha_ori.sig, '-', linha_des.sig) AS sig_linha_ori_des,\n",
    "CONCAT(secao_ori.sig, '-', secao_des.sig) AS sig_secao_ori_des,\n",
    "km,\n",
    "pax_total AS `passageiros_total`,\n",
    "tb.ori_municipio_nome AS sie_linha_ori,\n",
    "tb.des_municipio_nome AS sie_linha_des,\n",
    "tb.ori_localidade_nome AS sie_secao_ori,\n",
    "tb.des_localidade_nome AS sie_secao_des,\n",
    "linha_ori.sig AS sig_linha_ori,\n",
    "linha_des.sig AS sig_linha_des,\n",
    "secao_ori.sig AS sig_secao_ori,\n",
    "secao_des.sig AS sig_secao_des\n",
    "FROM tb\n",
    "LEFT JOIN dicionario_secoes AS secao_ori ON tb.ori_localidade_nome = secao_ori.sie\n",
    "LEFT JOIN dicionario_secoes AS secao_des ON tb.des_localidade_nome = secao_des.sie\n",
    "LEFT JOIN dicionario_linhas AS linha_ori ON tb.ori_municipio_nome = linha_ori.sie\n",
    "LEFT JOIN dicionario_linhas AS linha_des ON tb.des_municipio_nome = linha_des.sie\n",
    "ORDER BY `ano`, `empresa`, `prefixo`\n",
    "\n",
    "\"\"\")"
   ]
  },
  {
   "cell_type": "code",
   "execution_count": 7,
   "id": "1d5c8b37",
   "metadata": {},
   "outputs": [
    {
     "name": "stdout",
     "output_type": "stream",
     "text": [
      "(615285, 17)\n"
     ]
    }
   ],
   "source": [
    "print((df_join.count(), len(df_join.columns)))"
   ]
  },
  {
   "cell_type": "code",
   "execution_count": 8,
   "id": "38c2e2d0",
   "metadata": {},
   "outputs": [
    {
     "name": "stderr",
     "output_type": "stream",
     "text": [
      "\r",
      "[Stage 21:>                                                         (0 + 7) / 7]\r"
     ]
    },
    {
     "name": "stdout",
     "output_type": "stream",
     "text": [
      "+----+-----------------------------+----------+------------------------------+-------+----------------------+-------------------------------+------+-----------------+-------------+-------------+-------------+-------------+-------------+-------------+-------------+--------------------+\n",
      "|ano |empresa                      |modalidade|linha                         |prefixo|sig_linha_ori_des     |sig_secao_ori_des              |km    |passageiros_total|sie_linha_ori|sie_linha_des|sie_secao_ori|sie_secao_des|sig_linha_ori|sig_linha_des|sig_secao_ori|sig_secao_des       |\n",
      "+----+-----------------------------+----------+------------------------------+-------+----------------------+-------------------------------+------+-----------------+-------------+-------------+-------------+-------------+-------------+-------------+-------------+--------------------+\n",
      "|2000|1-EMP STO ANJO DA GUARDA LTDA|RODOVIARIO|149-0 - CRICIÚMASC-JOINVILLESC|149-0  |CRICIÚMASC-JOINVILLESC|CRICIÚMASC-JOINVILLESC         |369,00|8051             |CRICIUMA     |JOINVILLE    |CRICIUMA     |JOINVILLE    |CRICIÚMASC   |JOINVILLESC  |CRICIÚMASC   |JOINVILLESC         |\n",
      "|2000|1-EMP STO ANJO DA GUARDA LTDA|RODOVIARIO|149-0 - CRICIÚMASC-JOINVILLESC|149-0  |CRICIÚMASC-JOINVILLESC|CRICIÚMASC-BALNEÁRIO CAMBORIÚSC|265,00|2492             |CRICIUMA     |JOINVILLE    |CRICIUMA     |BALN CAMBORIU|CRICIÚMASC   |JOINVILLESC  |CRICIÚMASC   |BALNEÁRIO CAMBORIÚSC|\n",
      "|2000|1-EMP STO ANJO DA GUARDA LTDA|RODOVIARIO|149-0 - CRICIÚMASC-JOINVILLESC|149-0  |CRICIÚMASC-JOINVILLESC|CRICIÚMASC-ITAJAÍSC            |275,00|1590             |CRICIUMA     |JOINVILLE    |CRICIUMA     |ITAJAI       |CRICIÚMASC   |JOINVILLESC  |CRICIÚMASC   |ITAJAÍSC            |\n",
      "|2000|1-EMP STO ANJO DA GUARDA LTDA|RODOVIARIO|149-0 - CRICIÚMASC-JOINVILLESC|149-0  |CRICIÚMASC-JOINVILLESC|CRICIÚMASC-TUBARÃOSC           |62,00 |5439             |CRICIUMA     |JOINVILLE    |CRICIUMA     |TUBARAO      |CRICIÚMASC   |JOINVILLESC  |CRICIÚMASC   |TUBARÃOSC           |\n",
      "|2000|1-EMP STO ANJO DA GUARDA LTDA|RODOVIARIO|149-0 - CRICIÚMASC-JOINVILLESC|149-0  |CRICIÚMASC-JOINVILLESC|TUBARÃOSC-ITAJAÍSC             |213,00|1698             |CRICIUMA     |JOINVILLE    |TUBARAO      |ITAJAI       |CRICIÚMASC   |JOINVILLESC  |TUBARÃOSC    |ITAJAÍSC            |\n",
      "+----+-----------------------------+----------+------------------------------+-------+----------------------+-------------------------------+------+-----------------+-------------+-------------+-------------+-------------+-------------+-------------+-------------+--------------------+\n",
      "only showing top 5 rows\n",
      "\n"
     ]
    },
    {
     "name": "stderr",
     "output_type": "stream",
     "text": [
      "\r",
      "                                                                                \r"
     ]
    }
   ],
   "source": [
    "df_join.show(5, False)"
   ]
  },
  {
   "cell_type": "markdown",
   "id": "7bd9f65f",
   "metadata": {},
   "source": [
    "# Gravação"
   ]
  },
  {
   "cell_type": "code",
   "execution_count": 9,
   "id": "207ac111",
   "metadata": {},
   "outputs": [
    {
     "name": "stderr",
     "output_type": "stream",
     "text": [
      "22/04/05 13:34:02 WARN MemoryManager: Total allocation exceeds 95.00% (1,020,054,720 bytes) of heap memory\n",
      "Scaling row group sizes to 95.00% for 8 writers\n",
      "                                                                                \r"
     ]
    }
   ],
   "source": [
    "df_join.write.option(\"header\", \"True\").option(\"encoding\", \"utf-8\").parquet(\"ref_join/parquet/multifile/\")\n",
    "# df_join.write.option(\"header\", \"True\").option(\"encoding\", \"utf-8\").parquet(\"ref_join/parquet/singlefile/\")\n",
    "df_join.write.option(\"delimiter\", \";\").option(\"header\", \"True\").option(\"encoding\", \"utf-8\").csv(\"ref_join/csv/multifile/\")\n",
    "# df_join.write.option(\"delimiter\", \";\").option(\"header\", \"True\").option(\"encoding\", \"utf-8\").csv(\"ref_join/csv/singlefile/\")\n",
    "# df_join.write.partitionBy(\"ano\", \"empresa\").option(\"delimiter\", \";\").option(\"header\", \"true\").option(\"encoding\", \"utf-8\").csv(\"./intermunicipal_sc/ref_join/\")"
   ]
  },
  {
   "cell_type": "markdown",
   "id": "720d4015",
   "metadata": {},
   "source": [
    "# Teste"
   ]
  },
  {
   "cell_type": "code",
   "execution_count": 10,
   "id": "f4307582",
   "metadata": {
    "scrolled": true
   },
   "outputs": [
    {
     "name": "stdout",
     "output_type": "stream",
     "text": [
      "OK\n"
     ]
    }
   ],
   "source": [
    "leitura_joined = spark.read.option('delimiter', ';').option('encoding', 'utf-8').option('header', 'true').parquet(\"ref_join/parquet/multifile/\")\n",
    "\n",
    "def teste_qualidade(df, n_colunas, n_linhas):\n",
    "    if (len(df.columns) == n_colunas) == True and (int(df.count()) == n_linhas) == True:\n",
    "        print(\"OK\")\n",
    "    else:\n",
    "        print(\"FAILED\")\n",
    "\n",
    "teste_qualidade(leitura_joined, 17, 615285)"
   ]
  },
  {
   "cell_type": "code",
   "execution_count": 12,
   "id": "1b13016d",
   "metadata": {},
   "outputs": [],
   "source": [
    "leitura_joined.createOrReplaceTempView(\"qd\")"
   ]
  },
  {
   "cell_type": "code",
   "execution_count": 13,
   "id": "bde81c7c",
   "metadata": {},
   "outputs": [
    {
     "name": "stdout",
     "output_type": "stream",
     "text": [
      "+----+-----------------------------+----------+-------------+-------------------------+---------------------------+-----------------------------+-----------------+\n",
      "|ano |empresa                      |modalidade|linha_prefixo|linha_descricao          |linha_secao                |linha_secao_sig              |passageiros_total|\n",
      "+----+-----------------------------+----------+-------------+-------------------------+---------------------------+-----------------------------+-----------------+\n",
      "|2019|1-EMP STO ANJO DA GUARDA LTDA|RODOVIARIO|1116-0       |PAULO LOPES-FLORIANOPOLIS|PAULO LOPES-FLORIANOPOLIS  |PAULO LOPESSC-FLORIANÓPOLISSC|5                |\n",
      "|2019|1-EMP STO ANJO DA GUARDA LTDA|RODOVIARIO|1116-0       |PAULO LOPES-FLORIANOPOLIS|MORRETES-FLORIANOPOLIS     |PALHOÇASC-FLORIANÓPOLISSC    |4                |\n",
      "|2019|1-EMP STO ANJO DA GUARDA LTDA|RODOVIARIO|1116-0       |PAULO LOPES-FLORIANOPOLIS|MACIAMBU-FLORIANOPOLIS     |PALHOÇASC-FLORIANÓPOLISSC    |4                |\n",
      "|2019|1-EMP STO ANJO DA GUARDA LTDA|RODOVIARIO|1116-0       |PAULO LOPES-FLORIANOPOLIS|ENSEADA BRITO-FLORIANOPOLIS|PALHOÇASC-FLORIANÓPOLISSC    |5                |\n",
      "|2019|1-EMP STO ANJO DA GUARDA LTDA|RODOVIARIO|1116-0       |PAULO LOPES-FLORIANOPOLIS|PRAIA DE FORA-FLORIANOPOLIS|PALHOÇASC-FLORIANÓPOLISSC    |8                |\n",
      "|2019|1-EMP STO ANJO DA GUARDA LTDA|RODOVIARIO|1117-0       |GAROPABA-FLORIANOPOLIS   |GAROPABA-FLORIANOPOLIS     |GAROPABASC-FLORIANÓPOLISSC   |26571            |\n",
      "|2019|1-EMP STO ANJO DA GUARDA LTDA|RODOVIARIO|1117-0       |GAROPABA-FLORIANOPOLIS   |ENCANTADA-FLORIANOPOLIS    |GAROPABASC-FLORIANÓPOLISSC   |1283             |\n",
      "|2019|1-EMP STO ANJO DA GUARDA LTDA|RODOVIARIO|1117-0       |GAROPABA-FLORIANOPOLIS   |ARACATUBA-FLORIANOPOLIS    |IMBITUBASC-FLORIANÓPOLISSC   |9278             |\n",
      "|2019|1-EMP STO ANJO DA GUARDA LTDA|RODOVIARIO|1117-0       |GAROPABA-FLORIANOPOLIS   |PENHA 2-FLORIANOPOLIS      |PAULO LOPESSC-FLORIANÓPOLISSC|2436             |\n",
      "|2019|1-EMP STO ANJO DA GUARDA LTDA|RODOVIARIO|1117-0       |GAROPABA-FLORIANOPOLIS   |PAULO LOPES-FLORIANOPOLIS  |PAULO LOPESSC-FLORIANÓPOLISSC|15379            |\n",
      "+----+-----------------------------+----------+-------------+-------------------------+---------------------------+-----------------------------+-----------------+\n",
      "only showing top 10 rows\n",
      "\n"
     ]
    }
   ],
   "source": [
    "ano = 2019\n",
    "cidade_sig = \"FLORIANÓPOLISSC\"\n",
    "modalidade = \"RODOVIARIO\"\n",
    "df_html = spark.sql(f\"\"\"\n",
    "\n",
    "SELECT ano, empresa, modalidade, prefixo AS linha_prefixo, CONCAT(sie_linha_ori, '-', sie_linha_des) AS linha_descricao, CONCAT(sie_secao_ori, '-', sie_secao_des) AS linha_secao, sig_secao_ori_des AS linha_secao_sig, passageiros_total FROM qd WHERE passageiros_total > 0 AND ano = {ano} AND modalidade = '{modalidade}' AND sig_secao_ori_des LIKE \"%{cidade_sig}%\";\n",
    "\n",
    "\"\"\").show(10, False)\n",
    "\n",
    "# df_html.toPandas().to_html('teste.html', index = False)"
   ]
  },
  {
   "cell_type": "code",
   "execution_count": 14,
   "id": "0327812c",
   "metadata": {},
   "outputs": [
    {
     "name": "stdout",
     "output_type": "stream",
     "text": [
      "root\n",
      " |-- ano: long (nullable = true)\n",
      " |-- empresa: string (nullable = true)\n",
      " |-- modalidade: string (nullable = true)\n",
      " |-- linha: string (nullable = true)\n",
      " |-- prefixo: string (nullable = true)\n",
      " |-- sig_linha_ori_des: string (nullable = true)\n",
      " |-- sig_secao_ori_des: string (nullable = true)\n",
      " |-- km: string (nullable = true)\n",
      " |-- passageiros_total: string (nullable = true)\n",
      " |-- sie_linha_ori: string (nullable = true)\n",
      " |-- sie_linha_des: string (nullable = true)\n",
      " |-- sie_secao_ori: string (nullable = true)\n",
      " |-- sie_secao_des: string (nullable = true)\n",
      " |-- sig_linha_ori: string (nullable = true)\n",
      " |-- sig_linha_des: string (nullable = true)\n",
      " |-- sig_secao_ori: string (nullable = true)\n",
      " |-- sig_secao_des: string (nullable = true)\n",
      "\n"
     ]
    }
   ],
   "source": [
    "leitura_joined.printSchema()"
   ]
  },
  {
   "cell_type": "markdown",
   "id": "3e6eedf5",
   "metadata": {},
   "source": [
    "# Exemplos"
   ]
  },
  {
   "cell_type": "markdown",
   "id": "67ee4d1d",
   "metadata": {},
   "source": [
    "## Seleção com atributos usando spark.sql\n",
    "* algumas colunas\n",
    "* 2019 como ano-base\n",
    "* empresas de código 23 e 1505 (Reunidas)\n",
    "* movimentação de passageiros superior a 10.000\n",
    "* modalidade (âmbito) do serviço rodoviário\n",
    "* ordenação decrescente do total de passageiros"
   ]
  },
  {
   "cell_type": "code",
   "execution_count": null,
   "id": "e0b75e76",
   "metadata": {
    "scrolled": true
   },
   "outputs": [],
   "source": [
    "spark.sql(\"\"\"\n",
    "\n",
    "SELECT ano AS Ano, empresa AS Empresa, CONCAT(ori_municipio_nome, '-', des_municipio_nome) AS Linha, ori_des_localidade_nome AS `Origem-destino`, pax_total AS `Total de passageiros`\n",
    "FROM tb\n",
    "WHERE ano = 2019\n",
    "AND (empresa LIKE '23%' OR empresa LIKE '1505%')\n",
    "AND pax_total > 10000\n",
    "AND servico_ambito = 'RODOVIARIO'\n",
    "ORDER BY pax_total DESC\n",
    "\n",
    "\"\"\").show(10, False)"
   ]
  },
  {
   "cell_type": "markdown",
   "id": "e55b1a3e",
   "metadata": {},
   "source": [
    "## Seleção com atributos usando select do DataFrame\n",
    "* algumas colunas"
   ]
  },
  {
   "cell_type": "code",
   "execution_count": null,
   "id": "10915a9d",
   "metadata": {
    "scrolled": true
   },
   "outputs": [],
   "source": [
    "tb.select(\n",
    "    \"ano\",\n",
    "    \"empresa\",\n",
    "    \"prefixo\",\n",
    "    concat_ws(\"-\", \"ori_municipio_nome\", \"des_municipio_nome\").alias(\"linha_ori_des_sie\"),\n",
    "    concat_ws(\"-\", \"ori_localidade_nome\", \"des_localidade_nome\").alias(\"secao_ori_des_sie\"),\n",
    "    \"pax_total\"\n",
    ").show(10, False)"
   ]
  },
  {
   "cell_type": "markdown",
   "id": "06a466b1",
   "metadata": {},
   "source": [
    "## Seleção com atributos usando select do DataFrame\n",
    "* algumas colunas\n",
    "* concatenação de dados"
   ]
  },
  {
   "cell_type": "code",
   "execution_count": null,
   "id": "fb13bc4c",
   "metadata": {},
   "outputs": [],
   "source": [
    "tb.select(\n",
    "    \"ano\",\n",
    "    \"empresa\",\n",
    "    struct(\"prefixo\", concat_ws(\"-\", \"ori_municipio_nome\", \"des_municipio_nome\").alias(\"linha_ori_des_sie\")).alias(\"linha\"),\n",
    "    concat_ws(\"-\", \"ori_localidade_nome\", \"des_localidade_nome\").alias(\"secao_ori_des_sie\"),\n",
    "    \"pax_total\"\n",
    ").show(10, False)"
   ]
  },
  {
   "cell_type": "markdown",
   "id": "c5ecfc0e",
   "metadata": {},
   "source": [
    "##### _ _ _ _ _ _ _ _ _ _ _ _ _ _ _ _ _ _ _ _ _ _ _ _ _ _ _ _ _ _ _ _ _ _ _ _ _ _ _ _ _ _ _ _ _ _ _ _ _ _ _ _ _ _ _ _ _ _ _ _ _ _ _ _ _ _ _ _ _ _ _ _ _ _ _ _ _ _ _ _ _ _ _ _ _ _ _ _ _ _ _ _ _ _ _ _ _ _ _ _ _ _ _ _ _ _ _ _ _ _ _ _ "
   ]
  },
  {
   "cell_type": "code",
   "execution_count": null,
   "id": "f291e8a1",
   "metadata": {},
   "outputs": [],
   "source": [
    "schema = StructType([\n",
    "    StructField(\"ano\", LongType(), True),\n",
    "    StructField(\"codigo\", StringType(), True),\n",
    "    StructField(\"des_localidade_id\", StringType(), True),\n",
    "    StructField(\"des_localidade_nome\", StringType(), True),\n",
    "    StructField(\"des_localidade_uf\", StringType(), True),\n",
    "    StructField(\"des_municipio_id\", StringType(), True),\n",
    "    StructField(\"des_municipio_nome\", StringType(), True),\n",
    "    StructField(\"empresa\", StringType(), True),\n",
    "    StructField(\"empresa_cnpj\", StringType(), True),\n",
    "    StructField(\"empresa_situacao\", StringType(), True),\n",
    "    StructField(\"empresa_tipo\", StringType(), True),\n",
    "    StructField(\"ida_idoso_desconto\", StringType(), True),\n",
    "    StructField(\"ida_idoso_gratis\", StringType(), True),\n",
    "    StructField(\"ida_jovem_desconto\", StringType(), True),\n",
    "    StructField(\"ida_jovem_gratis\", StringType(), True),\n",
    "    StructField(\"ida_pagantes\", StringType(), True),\n",
    "    StructField(\"ida_passelivre\", StringType(), True),\n",
    "    StructField(\"km\", StringType(), True),\n",
    "    StructField(\"km_total\", StringType(), True),\n",
    "    StructField(\"linha\", StringType(), True),\n",
    "    StructField(\"linha_id\", StringType(), True),\n",
    "    StructField(\"lugares_idas\", StringType(), True),\n",
    "    StructField(\"lugares_voltas\", StringType(), True),\n",
    "    StructField(\"mes\", StringType(), True),\n",
    "    StructField(\"ori_des_localidade_nome\", StringType(), True),\n",
    "    StructField(\"ori_localidade_id\", StringType(), True),\n",
    "    StructField(\"ori_localidade_nome\", StringType(), True),\n",
    "    StructField(\"ori_localidade_uf\", StringType(), True),\n",
    "    StructField(\"ori_municipio_id\", StringType(), True),\n",
    "    StructField(\"ori_municipio_nome\", StringType(), True),\n",
    "    StructField(\"pax_gratis_descontos\", StringType(), True),\n",
    "    StructField(\"pax_idoso_desconto\", StringType(), True),\n",
    "    StructField(\"pax_idoso_gratis\", StringType(), True),\n",
    "    StructField(\"pax_jovem_desconto\", StringType(), True),\n",
    "    StructField(\"pax_jovem_gratis\", StringType(), True),\n",
    "    StructField(\"pax_pagantes\", StringType(), True),\n",
    "    StructField(\"pax_passelivre\", StringType(), True),\n",
    "    StructField(\"pax_total\", StringType(), True),\n",
    "    StructField(\"prefixo\", StringType(), True),\n",
    "    StructField(\"secao_id\", StringType(), True),\n",
    "    StructField(\"sequencial\", StringType(), True),\n",
    "    StructField(\"servico_ambito\", StringType(), True),\n",
    "    StructField(\"servico_tipo\", StringType(), True),\n",
    "    StructField(\"sisdap_fim\", StringType(), True),\n",
    "    StructField(\"sisdap_inicio\", StringType(), True),\n",
    "    StructField(\"viagem_idas\", StringType(), True),\n",
    "    StructField(\"viagem_voltas\", StringType(), True),\n",
    "    StructField(\"volta_idoso_desconto\", StringType(), True),\n",
    "    StructField(\"volta_idoso_gratis\", StringType(), True),\n",
    "    StructField(\"volta_jovem_desconto\", StringType(), True),\n",
    "    StructField(\"volta_jovem_gratis\", StringType(), True),\n",
    "    StructField(\"volta_pagantes\", StringType(), True),\n",
    "    StructField(\"volta_passelivre\", StringType(), True)])"
   ]
  }
 ],
 "metadata": {
  "kernelspec": {
   "display_name": "Python 3 (ipykernel)",
   "language": "python",
   "name": "python3"
  },
  "language_info": {
   "codemirror_mode": {
    "name": "ipython",
    "version": 3
   },
   "file_extension": ".py",
   "mimetype": "text/x-python",
   "name": "python",
   "nbconvert_exporter": "python",
   "pygments_lexer": "ipython3",
   "version": "3.9.7"
  }
 },
 "nbformat": 4,
 "nbformat_minor": 5
}
